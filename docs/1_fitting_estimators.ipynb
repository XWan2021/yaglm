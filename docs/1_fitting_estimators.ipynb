{
 "cells": [
  {
   "cell_type": "code",
   "execution_count": 14,
   "metadata": {},
   "outputs": [],
   "source": [
    "import numpy as np\n",
    "import matplotlib.pyplot as plt\n",
    "\n",
    "from yaglm.toy_data import sample_sparse_lin_reg\n",
    "\n",
    "from yaglm.Glm import Glm # the base class for all single fit estimators\n",
    "\n",
    "# the model is specified with config objects\n",
    "from yaglm.config.loss import LinReg, Huber, Quantile\n",
    "from yaglm.config.penalty import Lasso, GroupLasso, FusedLasso\n",
    "from yaglm.config.constraint import Positive\n",
    "\n",
    "# solver configs\n",
    "from yaglm.solver.FISTA import FISTA"
   ]
  },
  {
   "cell_type": "code",
   "execution_count": 2,
   "metadata": {},
   "outputs": [],
   "source": [
    "# sample data from a toy linear regression model\n",
    "X, y, model_info = sample_sparse_lin_reg(n_samples=100,\n",
    "                                         n_features=10,\n",
    "                                         beta_type=2, random_state=1)"
   ]
  },
  {
   "cell_type": "code",
   "execution_count": 3,
   "metadata": {},
   "outputs": [
    {
     "name": "stdout",
     "output_type": "stream",
     "text": [
      "estimated coefficient [0.28857346 0.63341145 0.5955276  0.6510566  0.43643051 0.\n",
      " 0.         0.         0.         0.        ]\n",
      "mean square training error 12.448448805753062\n"
     ]
    }
   ],
   "source": [
    "# Lasso penalized least squares\n",
    "est = Glm(loss=LinReg(), # specify loss function\n",
    "          penalty=Lasso(pen_val=1) # specify penalty and penalty value\n",
    "         )\n",
    "\n",
    "# the estimator objects work just like sklearn\n",
    "est.fit(X, y) \n",
    "print('estimated coefficient', est.coef_)\n",
    "print('mean square training error', np.mean((est.predict(X) - y) ** 2))"
   ]
  },
  {
   "cell_type": "markdown",
   "metadata": {},
   "source": [
    "# Specifying the penalty "
   ]
  },
  {
   "cell_type": "code",
   "execution_count": 4,
   "metadata": {},
   "outputs": [
    {
     "name": "stdout",
     "output_type": "stream",
     "text": [
      "mean square training error 10.205137937220996\n"
     ]
    }
   ],
   "source": [
    "# Group lasso with user specified groups\n",
    "groups = [range(5), range(5, 10)]\n",
    "est = Glm(loss=LinReg(),\n",
    "          penalty=GroupLasso(pen_val=1,\n",
    "                             groups=groups)  # specify groups\n",
    "         ).fit(X, y)\n",
    "\n",
    "print('mean square training error', np.mean((est.predict(X) - y) ** 2))"
   ]
  },
  {
   "cell_type": "code",
   "execution_count": 5,
   "metadata": {},
   "outputs": [],
   "source": [
    "# There are many other penalties e.g. fused lasso\n",
    "\n",
    "# standard fused lasso (non-sparse version)\n",
    "penalty = FusedLasso(pen_val=1,\n",
    "                     edgelist='chain' # fused lasso = graph lasso with chain graph\n",
    "                     )\n",
    "\n",
    "# fused lasso with a second order trend filtering matrix\n",
    "# penalty = FusedLasso(pen_val=1, edgelist='chain', order=2)\n",
    "\n",
    "est = Glm(loss=LinReg(), penalty=penalty).fit(X, y)"
   ]
  },
  {
   "cell_type": "markdown",
   "metadata": {},
   "source": [
    "# Specifying the loss function"
   ]
  },
  {
   "cell_type": "code",
   "execution_count": 6,
   "metadata": {},
   "outputs": [
    {
     "name": "stdout",
     "output_type": "stream",
     "text": [
      "['lin_reg', 'l2', 'huber', 'quantile', 'poisson', 'log_reg', 'multinomial']\n"
     ]
    }
   ],
   "source": [
    "# losses can be specified with a string\n",
    "Glm(loss='lin_reg').fit(X, y)  # by default there is no penalty\n",
    "# Glm().fit(X, y) # loss defaults to lin_reg \n",
    "\n",
    "Glm(loss='huber').fit(X, y) # huber regression\n",
    "Glm(loss='quantile').fit(X, y) # quantile regression\n",
    "Glm(loss='poisson').fit(X, abs(y)) # poisson regression (ok we had to fake count data)\n",
    "\n",
    "# we can check the list of currently available losses\n",
    "from yaglm.config.loss import avail_losses\n",
    "print(avail_losses)"
   ]
  },
  {
   "cell_type": "code",
   "execution_count": 7,
   "metadata": {},
   "outputs": [
    {
     "data": {
      "text/plain": [
       "Glm(loss=<yaglm.config.loss.Quantile object at 0x7fae4cfffd50>)"
      ]
     },
     "execution_count": 7,
     "metadata": {},
     "output_type": "execute_result"
    }
   ],
   "source": [
    "# some loss functions (e.g. quantile, huber) have parameters we can set\n",
    "# using config objects\n",
    "\n",
    "# specify the huber knot\n",
    "Glm(loss=Huber(knot=5)).fit(X, y) \n",
    "\n",
    "# specify the quantile\n",
    "Glm(loss=Quantile(quantile=0.25)).fit(X, y)"
   ]
  },
  {
   "cell_type": "markdown",
   "metadata": {},
   "source": [
    "# constraints"
   ]
  },
  {
   "cell_type": "code",
   "execution_count": 8,
   "metadata": {},
   "outputs": [
    {
     "name": "stdout",
     "output_type": "stream",
     "text": [
      "['pos', 'isotonic', 'simplex', 'lin_eq', 'rank']\n"
     ]
    }
   ],
   "source": [
    "# positive constraint\n",
    "Glm(constraint=Positive()).fit(X, y)\n",
    "# Glm(constraint='pos').fit(X, y) # constraints can also be specified with a string\n",
    "\n",
    "# we can check the list of currently available losses\n",
    "from yaglm.config.constraint import avail_constraints\n",
    "print(avail_constraints)"
   ]
  },
  {
   "cell_type": "markdown",
   "metadata": {},
   "source": [
    "Support for penalties and constraints is coming soon!"
   ]
  },
  {
   "cell_type": "markdown",
   "metadata": {},
   "source": [
    "# specifying the solver\n",
    "\n",
    "The solver config objects give you total control over how we compute the GLM solution. For example, you can specify solver parameters (e.g. maximum number of steps).\n",
    "\n",
    "You can also employ your favorite optimization algorithm by simply wrapping it in a solver config object! See `yaglm.solver.FISTA` to see what this should look like. "
   ]
  },
  {
   "cell_type": "code",
   "execution_count": 9,
   "metadata": {},
   "outputs": [
    {
     "data": {
      "text/plain": [
       "Glm()"
      ]
     },
     "execution_count": 9,
     "metadata": {},
     "output_type": "execute_result"
    }
   ],
   "source": [
    "# we can specify which solver we want and how we want it to behave\n",
    "# by passing a solver config object\n",
    "\n",
    "Glm(solver=FISTA(max_iter=100) # use FISTA with at most 100 steps\n",
    "    ).fit(X, y)\n",
    "\n",
    "# if no solver is provided, yaglm will try to guess a sensible default solver\n",
    "Glm(solver='default').fit(X, y)"
   ]
  },
  {
   "cell_type": "code",
   "execution_count": 10,
   "metadata": {},
   "outputs": [
    {
     "name": "stdout",
     "output_type": "stream",
     "text": [
      "FISTA took 20 steps and 0.00178 seconds to run\n"
     ]
    },
    {
     "data": {
      "text/plain": [
       "Text(0.5, 0, 'FISTA iteration')"
      ]
     },
     "execution_count": 10,
     "metadata": {},
     "output_type": "execute_result"
    },
    {
     "data": {
      "image/png": "[encoded data removed]",
      "text/plain": [
       "<Figure size 432x288 with 1 Axes>"
      ]
     },
     "metadata": {
      "needs_background": "light"
     },
     "output_type": "display_data"
    }
   ],
   "source": [
    "# many solvers let you track information about the optimzation history\n",
    "est = Glm(solver=FISTA(tracking_level=1) # tell FISTA to track some of the data\n",
    "          ).fit(X, y)\n",
    "\n",
    "\n",
    "# this data is stored under the opt_info_ attribute\n",
    "est.opt_info_.keys()\n",
    "\n",
    "# these quantities are tracked no matter the tracking level\n",
    "print('FISTA took {} steps and {:1.5f} seconds to run'.format(est.opt_info_['iter'],\n",
    "                                                              est.opt_info_['runtime']))\n",
    "\n",
    "# plot the objective funciton history\n",
    "# since tracking_level >=1 FISTA stores the objective function history\n",
    "objective_history = est.opt_info_['history']['objective']\n",
    "plt.plot(objective_history, marker='.')\n",
    "plt.ylabel(\"Objective value\")\n",
    "plt.xlabel(\"FISTA iteration\")"
   ]
  },
  {
   "cell_type": "markdown",
   "metadata": {},
   "source": [
    "# other GLM parameters\n",
    "\n"
   ]
  },
  {
   "cell_type": "code",
   "execution_count": 11,
   "metadata": {},
   "outputs": [
    {
     "data": {
      "text/plain": [
       "<function yaglm.base.BaseGlm.__init__(self, loss='lin_reg', penalty=None, constraint=None, standardize=True, fit_intercept=True, solver='default', lla=True, initializer='default', inferencer=None)>"
      ]
     },
     "execution_count": 11,
     "metadata": {},
     "output_type": "execute_result"
    }
   ],
   "source": [
    "# lets check out the other init options for all Glms\n",
    "Glm.__init__"
   ]
  },
  {
   "cell_type": "code",
   "execution_count": 12,
   "metadata": {},
   "outputs": [
    {
     "data": {
      "text/plain": [
       "Glm()"
      ]
     },
     "execution_count": 12,
     "metadata": {},
     "output_type": "execute_result"
    }
   ],
   "source": [
    "# standardization, which is applied by default, means mean centering and scaling\n",
    "# Note that after fitting the coefficient on the processed data we transform\n",
    "# the coefficient/intercept back to the original scale of the data!\n",
    "Glm(standardize=True).fit(X, y)\n",
    "\n",
    "# Our standardization routines work the same with sparse and matrices!\n",
    "# I.e. we (lazily) mean center sparse matrices \n",
    "# using the scipy.sparse.linalg.LinearOperator class\n",
    "from scipy.sparse import csr_matrix\n",
    "Glm(standardize=True).fit(csr_matrix(X), # X is a sparse matrix format here!\n",
    "                          y)"
   ]
  },
  {
   "cell_type": "code",
   "execution_count": 13,
   "metadata": {},
   "outputs": [
    {
     "data": {
      "text/plain": [
       "Glm(fit_intercept=False)"
      ]
     },
     "execution_count": 13,
     "metadata": {},
     "output_type": "execute_result"
    }
   ],
   "source": [
    "# we can turn intercepts off if we really want to\n",
    "Glm(fit_intercept=False).fit(X, y)"
   ]
  },
  {
   "cell_type": "markdown",
   "metadata": {},
   "source": [
    "The following arguments are discussed in later notebook\n",
    "\n",
    "- The `initializer` argument is only used for flavored penalties e.g. adaptive Lasso, SCAD.\n",
    "\n",
    "- The `inferencer` argument is used for running statistial inference routines e.g. estimating the number of degrees of freedom."
   ]
  },
  {
   "cell_type": "code",
   "execution_count": null,
   "metadata": {},
   "outputs": [],
   "source": []
  }
 ],
 "metadata": {
  "kernelspec": {
   "display_name": "Python [conda env:root] *",
   "language": "python",
   "name": "conda-root-py"
  },
  "language_info": {
   "codemirror_mode": {
    "name": "ipython",
    "version": 3
   },
   "file_extension": ".py",
   "mimetype": "text/x-python",
   "name": "python",
   "nbconvert_exporter": "python",
   "pygments_lexer": "ipython3",
   "version": "3.7.4"
  }
 },
 "nbformat": 4,
 "nbformat_minor": 2
}
